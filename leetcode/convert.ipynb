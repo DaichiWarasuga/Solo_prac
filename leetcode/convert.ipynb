{
 "cells": [
  {
   "cell_type": "code",
   "execution_count": 4,
   "metadata": {},
   "outputs": [],
   "source": [
    "import numpy as np"
   ]
  },
  {
   "cell_type": "code",
   "execution_count": null,
   "metadata": {},
   "outputs": [],
   "source": [
    "# 完成コード\n",
    "class Solution:\n",
    "    def convert(self, s: str, numRows: int) -> str:\n",
    "        import numpy as np\n",
    "        if numRows >= len(s): return s\n",
    "        if numRows == 1: return s\n",
    "        col = [0]\n",
    "        idx = []\n",
    "        step = 0\n",
    "\n",
    "        while 1:\n",
    "            if col[-1] == 0:\n",
    "                for i in range(1, numRows):\n",
    "                    col.append(i)\n",
    "                    step += 1\n",
    "            elif col[-1] == numRows-1:\n",
    "                for i in range(numRows-2, -1, -1):\n",
    "                    col.append(i)\n",
    "                    step += 1\n",
    "            if step >= len(s): break\n",
    "        T_col = col[:len(s)]\n",
    "        i = 0\n",
    "        step = 0\n",
    "        while 1:\n",
    "            for _ in range(numRows):\n",
    "                idx.append(i)\n",
    "                step += 1\n",
    "            for _ in range(numRows-2):\n",
    "                i += 1\n",
    "                idx.append(i)\n",
    "            i += 1\n",
    "            if step >= len(s): break\n",
    "        T_idx = idx[:len(s)]\n",
    "        result = np.full((max(T_col)+1, max(T_idx)+1), \" \")\n",
    "\n",
    "        for (word, i, j) in zip(s, col, idx):\n",
    "            result[i][j] = word\n",
    "        text = \"\"\n",
    "        for r in result:\n",
    "            for i in r:\n",
    "                if i != \" \":\n",
    "                    text += i\n",
    "        return text"
   ]
  },
  {
   "cell_type": "code",
   "execution_count": 61,
   "metadata": {},
   "outputs": [
    {
     "ename": "KeyboardInterrupt",
     "evalue": "",
     "output_type": "error",
     "traceback": [
      "\u001b[0;31m---------------------------------------------------------------------------\u001b[0m",
      "\u001b[0;31mKeyboardInterrupt\u001b[0m                         Traceback (most recent call last)",
      "Cell \u001b[0;32mIn [61], line 46\u001b[0m\n\u001b[1;32m     44\u001b[0m \u001b[39m# s = \"PAHNAPLSIIGYIR\"\u001b[39;00m\n\u001b[1;32m     45\u001b[0m s \u001b[39m=\u001b[39m \u001b[39m\"\u001b[39m\u001b[39mAB\u001b[39m\u001b[39m\"\u001b[39m\n\u001b[0;32m---> 46\u001b[0m r \u001b[39m=\u001b[39m convert(s, numRows)\n\u001b[1;32m     47\u001b[0m \u001b[39mprint\u001b[39m(r)\n",
      "Cell \u001b[0;32mIn [61], line 11\u001b[0m, in \u001b[0;36mconvert\u001b[0;34m(s, numRows)\u001b[0m\n\u001b[1;32m      9\u001b[0m \u001b[39mwhile\u001b[39;00m \u001b[39m1\u001b[39m:\n\u001b[1;32m     10\u001b[0m   \u001b[39mif\u001b[39;00m col[\u001b[39m-\u001b[39m\u001b[39m1\u001b[39m] \u001b[39m==\u001b[39m \u001b[39m0\u001b[39m:\n\u001b[0;32m---> 11\u001b[0m     \u001b[39mfor\u001b[39;00m i \u001b[39min\u001b[39;00m \u001b[39mrange\u001b[39;49m(\u001b[39m1\u001b[39;49m, numRows):\n\u001b[1;32m     12\u001b[0m       col\u001b[39m.\u001b[39mappend(i)\n\u001b[1;32m     13\u001b[0m       step \u001b[39m+\u001b[39m\u001b[39m=\u001b[39m \u001b[39m1\u001b[39m\n",
      "\u001b[0;31mKeyboardInterrupt\u001b[0m: "
     ]
    }
   ],
   "source": [
    "import numpy as np\n",
    "\n",
    "def convert(s: str, numRows: int):\n",
    "  if numRows > len(s): return s\n",
    "  if numRows == 1: return s\n",
    "  col = [0]\n",
    "  idx = []\n",
    "  step = 0\n",
    "\n",
    "  while 1:\n",
    "    if col[-1] == 0:\n",
    "      for i in range(1, numRows):\n",
    "        col.append(i)\n",
    "        step += 1\n",
    "    elif col[-1] == numRows-1:\n",
    "      for i in range(numRows-2, -1, -1):\n",
    "        col.append(i)\n",
    "        step += 1\n",
    "    if step >= len(s): break\n",
    "  T_col = col[:len(s)]\n",
    "  i = 0\n",
    "  step = 0\n",
    "  while 1:\n",
    "    for _ in range(numRows):\n",
    "      idx.append(i)\n",
    "      step += 1\n",
    "    for _ in range(numRows-2):\n",
    "      i += 1\n",
    "      idx.append(i)\n",
    "    i += 1\n",
    "    if step >= len(s): break\n",
    "  T_idx = idx[:len(s)]\n",
    "  result = np.full((max(T_col)+1, max(T_idx)+1), \" \")\n",
    "  \n",
    "  for (word, i, j) in zip(s, col, idx):\n",
    "    result[i][j] = word\n",
    "  text = \"\"\n",
    "  for r in result:\n",
    "    for i in r:\n",
    "      if i != \" \":\n",
    "        text += i\n",
    "  return text\n",
    "\n",
    "numRows = 1\n",
    "# s = \"PAHNAPLSIIGYIR\"\n",
    "s = \"AB\"\n",
    "r = convert(s, numRows)\n",
    "print(r)\n",
    "# for i in r: print(\" \".join(i))"
   ]
  },
  {
   "cell_type": "code",
   "execution_count": 1,
   "metadata": {},
   "outputs": [
    {
     "data": {
      "text/plain": [
       "14"
      ]
     },
     "execution_count": 1,
     "metadata": {},
     "output_type": "execute_result"
    }
   ],
   "source": [
    "s = \"PAHNAPLSIIGYIR\"\n",
    "len(s)"
   ]
  },
  {
   "cell_type": "markdown",
   "metadata": {},
   "source": [
    "　 PAHNAPLSIIGYIR\n",
    "numRows = 4\n",
    "行:01232101232101\n",
    "列:00001233334566\n",
    "\n",
    "numRows = 5\n",
    "PAHNAPLSIIGYIR\n",
    "01234321012343\n",
    "000001234444456788888"
   ]
  },
  {
   "cell_type": "code",
   "execution_count": null,
   "metadata": {},
   "outputs": [],
   "source": []
  },
  {
   "cell_type": "code",
   "execution_count": 15,
   "metadata": {},
   "outputs": [
    {
     "ename": "ValueError",
     "evalue": "operands could not be broadcast together with shapes (5,) (4,) ",
     "output_type": "error",
     "traceback": [
      "\u001b[0;31m---------------------------------------------------------------------------\u001b[0m",
      "\u001b[0;31mValueError\u001b[0m                                Traceback (most recent call last)",
      "Cell \u001b[0;32mIn [15], line 3\u001b[0m\n\u001b[1;32m      1\u001b[0m numRows \u001b[39m=\u001b[39m \u001b[39m5\u001b[39m\n\u001b[1;32m      2\u001b[0m t \u001b[39m=\u001b[39m \u001b[39mlen\u001b[39m(s)\n\u001b[0;32m----> 3\u001b[0m np\u001b[39m.\u001b[39marange(\u001b[39m5\u001b[39m) \u001b[39m+\u001b[39m np\u001b[39m.\u001b[39marange(\u001b[39m6\u001b[39m, \u001b[39m0\u001b[39m, \u001b[39m-\u001b[39m\u001b[39m1\u001b[39m)[\u001b[39m2\u001b[39m:] \u001b[39m+\u001b[39m np\u001b[39m.\u001b[39marange(\u001b[39m5\u001b[39m) \u001b[39m+\u001b[39m np\u001b[39m.\u001b[39marange(\u001b[39m6\u001b[39m, \u001b[39m0\u001b[39m, \u001b[39m-\u001b[39m\u001b[39m1\u001b[39m)[\u001b[39m2\u001b[39m:]\n",
      "\u001b[0;31mValueError\u001b[0m: operands could not be broadcast together with shapes (5,) (4,) "
     ]
    }
   ],
   "source": [
    "numRows = 5\n",
    "t = len(s)\n",
    "np.arange(5) + np.arange(6, 0, -1)[2:] + np.arange(5) + np.arange(6, 0, -1)[2:]"
   ]
  },
  {
   "cell_type": "code",
   "execution_count": 13,
   "metadata": {},
   "outputs": [
    {
     "data": {
      "text/plain": [
       "array([3, 2, 1])"
      ]
     },
     "execution_count": 13,
     "metadata": {},
     "output_type": "execute_result"
    }
   ],
   "source": [
    "np.arange(5,0, -1)[2:]"
   ]
  },
  {
   "cell_type": "code",
   "execution_count": 31,
   "metadata": {},
   "outputs": [
    {
     "data": {
      "text/plain": [
       "[0, 0, 0, 0, 0, 1, 2, 3, 4, 4, 4, 4, 4, 5]"
      ]
     },
     "execution_count": 31,
     "metadata": {},
     "output_type": "execute_result"
    }
   ],
   "source": [
    "col = [0]\n",
    "idx = []\n",
    "step = 0\n",
    "s = \"PAHNAPLSIIGYIR\"\n",
    "i = 0\n",
    "while 1:\n",
    "  for _ in range(numRows):\n",
    "    idx.append(i)\n",
    "    step += 1\n",
    "  for _ in range(numRows-2):\n",
    "    i += 1\n",
    "    idx.append(i)\n",
    "  i += 1\n",
    "  if step >= len(s): break\n",
    "\n",
    "idx[:len(s)]"
   ]
  },
  {
   "cell_type": "code",
   "execution_count": 29,
   "metadata": {},
   "outputs": [
    {
     "data": {
      "text/plain": [
       "[0, 1, 2, 3, 4, 3, 2, 1, 0, 1, 2, 3, 4, 3]"
      ]
     },
     "execution_count": 29,
     "metadata": {},
     "output_type": "execute_result"
    }
   ],
   "source": [
    "col[:len(s)]"
   ]
  },
  {
   "cell_type": "code",
   "execution_count": 16,
   "metadata": {},
   "outputs": [
    {
     "name": "stdout",
     "output_type": "stream",
     "text": [
      "3\n",
      "2\n",
      "1\n"
     ]
    }
   ],
   "source": [
    "for i in range(numRows-2, 0, -1):\n",
    "  print(i)"
   ]
  },
  {
   "cell_type": "code",
   "execution_count": 33,
   "metadata": {},
   "outputs": [
    {
     "data": {
      "text/plain": [
       "array([[' ', ' ', ' '],\n",
       "       [' ', ' ', ' '],\n",
       "       [' ', ' ', ' ']], dtype='<U1')"
      ]
     },
     "execution_count": 33,
     "metadata": {},
     "output_type": "execute_result"
    }
   ],
   "source": [
    "result = np.full((3, 3), \" \")\n",
    "result"
   ]
  },
  {
   "cell_type": "code",
   "execution_count": null,
   "metadata": {},
   "outputs": [],
   "source": []
  }
 ],
 "metadata": {
  "kernelspec": {
   "display_name": "Python 3.9.12 64-bit ('base')",
   "language": "python",
   "name": "python3"
  },
  "language_info": {
   "codemirror_mode": {
    "name": "ipython",
    "version": 3
   },
   "file_extension": ".py",
   "mimetype": "text/x-python",
   "name": "python",
   "nbconvert_exporter": "python",
   "pygments_lexer": "ipython3",
   "version": "3.9.12"
  },
  "orig_nbformat": 4,
  "vscode": {
   "interpreter": {
    "hash": "77bf64d516005a5cc17c482f909ffbb4ee1d1bfb8642afedd6d38d3e58070170"
   }
  }
 },
 "nbformat": 4,
 "nbformat_minor": 2
}
