{
 "cells": [
  {
   "cell_type": "code",
   "execution_count": 27,
   "metadata": {},
   "outputs": [
    {
     "data": {
      "text/plain": [
       "(5, [0, 1, 2, 3, 4, 2, 2, 2, 3, 3, 4])"
      ]
     },
     "execution_count": 27,
     "metadata": {},
     "output_type": "execute_result"
    }
   ],
   "source": [
    "def removeDuplicates(nums):\n",
    "  result = []\n",
    "  for i in nums:\n",
    "    if i not in result:\n",
    "      result.append(i)\n",
    "  n = len(result)\n",
    "  result += nums[n:]\n",
    "  return (n, result)\n",
    "\n",
    "nums = [0,0,1,1,1,2,2,2,3,3,4]\n",
    "# nums = [1,1,2]\n",
    "\n",
    "removeDuplicates(nums)"
   ]
  },
  {
   "cell_type": "code",
   "execution_count": 46,
   "metadata": {},
   "outputs": [
    {
     "data": {
      "text/plain": [
       "1"
      ]
     },
     "execution_count": 46,
     "metadata": {},
     "output_type": "execute_result"
    }
   ],
   "source": [
    "# 完成品\n",
    "def removeDuplicates(nums):\n",
    "  for i in range(len(nums)):\n",
    "    j = i+1\n",
    "    while 1:\n",
    "      try:\n",
    "        if nums[i] == nums[j]:\n",
    "          del nums[j]\n",
    "        else:\n",
    "          j += 1\n",
    "      except:\n",
    "        break\n",
    "  return len(nums)\n",
    "nums = [0,0,0,0]\n",
    "removeDuplicates(nums)"
   ]
  },
  {
   "cell_type": "code",
   "execution_count": 43,
   "metadata": {},
   "outputs": [
    {
     "data": {
      "text/plain": [
       "2"
      ]
     },
     "execution_count": 43,
     "metadata": {},
     "output_type": "execute_result"
    }
   ],
   "source": [
    "sum([2])"
   ]
  },
  {
   "cell_type": "code",
   "execution_count": 5,
   "metadata": {},
   "outputs": [],
   "source": [
    "a = []\n",
    "a.append(_)"
   ]
  },
  {
   "cell_type": "code",
   "execution_count": 6,
   "metadata": {},
   "outputs": [
    {
     "data": {
      "text/plain": [
       "[[0, 1, 2, 3, 4, '_', '_', '_', '_', '_']]"
      ]
     },
     "execution_count": 6,
     "metadata": {},
     "output_type": "execute_result"
    }
   ],
   "source": [
    "a"
   ]
  },
  {
   "cell_type": "code",
   "execution_count": 17,
   "metadata": {},
   "outputs": [
    {
     "data": {
      "text/plain": [
       "(2, [1, 2, 2])"
      ]
     },
     "execution_count": 17,
     "metadata": {},
     "output_type": "execute_result"
    }
   ],
   "source": [
    "def removeDuplicates(nums) -> int:\n",
    "        n = 0\n",
    "        for i in range(1,len(nums)):\n",
    "                if nums[n] < nums[i]:\n",
    "                        n += 1\n",
    "                        nums[n] = nums[i]\n",
    "        return (n+1, nums)\n",
    "nums = [1,1,2]\n",
    "# nums = [0,0,1,1,1,2,2,3,3,4]\n",
    "removeDuplicates(nums)"
   ]
  },
  {
   "cell_type": "code",
   "execution_count": null,
   "metadata": {},
   "outputs": [],
   "source": [
    "# int[] nums = [...]; // Input array\n",
    "# int[] expectedNums = [...]; // The expected answer with correct length\n",
    "\n",
    "# int k = removeDuplicates(nums); // Calls your implementation\n",
    "\n",
    "# assert k == expectedNums.length;\n",
    "# for (int i = 0; i < k; i++) {\n",
    "#     assert nums[i] == expectedNums[i];\n",
    "# }"
   ]
  }
 ],
 "metadata": {
  "kernelspec": {
   "display_name": "Python 3.9.12 64-bit ('base')",
   "language": "python",
   "name": "python3"
  },
  "language_info": {
   "codemirror_mode": {
    "name": "ipython",
    "version": 3
   },
   "file_extension": ".py",
   "mimetype": "text/x-python",
   "name": "python",
   "nbconvert_exporter": "python",
   "pygments_lexer": "ipython3",
   "version": "3.9.12"
  },
  "orig_nbformat": 4,
  "vscode": {
   "interpreter": {
    "hash": "77bf64d516005a5cc17c482f909ffbb4ee1d1bfb8642afedd6d38d3e58070170"
   }
  }
 },
 "nbformat": 4,
 "nbformat_minor": 2
}
